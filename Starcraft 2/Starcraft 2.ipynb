{
 "cells": [
  {
   "cell_type": "code",
   "execution_count": null,
   "id": "ee6529b6",
   "metadata": {},
   "outputs": [],
   "source": [
    "# import libraries\n",
    "\n",
    "import pandas as pd\n",
    "import numpy as np\n",
    "import time\n",
    "\n",
    "import plotly.express as px\n",
    "import plotly.graph_objects as go\n",
    "\n",
    "import matplotlib.pyplot as plt\n",
    "import seaborn as sns\n",
    "\n",
    "from statsmodels.stats.outliers_influence import variance_inflation_factor\n",
    "from statsmodels.tools.tools import add_constant\n",
    "\n",
    "from sklearn.model_selection import train_test_split, StratifiedKFold\n",
    "from sklearn.ensemble import RandomForestClassifier\n",
    "from sklearn.inspection import permutation_importance\n",
    "from sklearn import metrics \n",
    "from eli5.sklearn import PermutationImportance #pip install eli5\n",
    "from eli5 import show_prediction, show_weights\n",
    "\n",
    "import warnings\n",
    "from pandas.core.common import SettingWithCopyWarning\n",
    "warnings.simplefilter(action=\"ignore\", category=SettingWithCopyWarning)"
   ]
  },
  {
   "cell_type": "markdown",
   "id": "14650900",
   "metadata": {},
   "source": [
    "## Time_taken = 10 hours"
   ]
  },
  {
   "cell_type": "markdown",
   "id": "9bf70037",
   "metadata": {},
   "source": [
    "## Read csv file"
   ]
  },
  {
   "cell_type": "code",
   "execution_count": null,
   "id": "f1ce3ddb",
   "metadata": {},
   "outputs": [],
   "source": [
    "missing_values = [\"n/a\", \"na\", \"--\", \"?\"]\n",
    "df = pd.read_csv(\"starcraft_player_data.csv\", na_values = missing_values)"
   ]
  },
  {
   "cell_type": "code",
   "execution_count": null,
   "id": "0529caa3",
   "metadata": {},
   "outputs": [],
   "source": [
    "len(df)"
   ]
  },
  {
   "cell_type": "markdown",
   "id": "1746d04e",
   "metadata": {},
   "source": [
    "# Data Exploratory Analysis"
   ]
  },
  {
   "cell_type": "code",
   "execution_count": null,
   "id": "24ab24a9",
   "metadata": {},
   "outputs": [],
   "source": [
    "df.head()"
   ]
  },
  {
   "cell_type": "code",
   "execution_count": null,
   "id": "32cb8d4b",
   "metadata": {},
   "outputs": [],
   "source": [
    "display(df.dtypes.value_counts())\n",
    "display(df.info())"
   ]
  },
  {
   "cell_type": "code",
   "execution_count": null,
   "id": "d05770e3",
   "metadata": {},
   "outputs": [],
   "source": [
    "df.isnull().sum()"
   ]
  },
  {
   "cell_type": "code",
   "execution_count": null,
   "id": "9a63967c",
   "metadata": {},
   "outputs": [],
   "source": [
    "#missing_categories = ['Age', 'HoursPerWeek', 'TotalHours']\n",
    "missing_df = df.loc[(df['Age'].isnull()) + (df['HoursPerWeek'].isnull()) + (df['TotalHours'].isnull())]\n",
    "display(missing_df.head())\n",
    "display(missing_df.shape)"
   ]
  },
  {
   "cell_type": "code",
   "execution_count": null,
   "id": "2e06ddd6",
   "metadata": {},
   "outputs": [],
   "source": [
    "#All the missing values belong to LeaguIndex 8\n",
    "display(missing_df['LeagueIndex'].unique())\n",
    "display(missing_df['LeagueIndex'].value_counts())"
   ]
  },
  {
   "cell_type": "code",
   "execution_count": null,
   "id": "bac793ea",
   "metadata": {},
   "outputs": [],
   "source": [
    "categories = ['LeagueIndex', 'Age', 'HoursPerWeek', 'TotalHours']\n",
    "missing_df = missing_df[categories]\n",
    "missing_professional_df = missing_df[missing_df['LeagueIndex'] == 8]\n",
    "missing_dimaond_df = missing_df[missing_df['LeagueIndex'] == 5]\n",
    "print(\"Missing professional nan counts are\")\n",
    "display(missing_professional_df.isnull().sum())\n",
    "print(\"Missing dimaond nan counts are\")\n",
    "display(missing_dimaond_df.isnull().sum())"
   ]
  },
  {
   "cell_type": "code",
   "execution_count": null,
   "id": "6898388e",
   "metadata": {},
   "outputs": [],
   "source": [
    "df['LeagueIndex'] = df['LeagueIndex'].replace([1,2,3,4,5,6,7,8],['Bronze', 'Silver', 'Gold', 'Platinum', 'Diamond', 'Master', 'GrandMaster', 'Professional_leagues'])\n",
    "display(df.head())"
   ]
  },
  {
   "cell_type": "code",
   "execution_count": null,
   "id": "768df248",
   "metadata": {},
   "outputs": [],
   "source": [
    "#Visualizing the leagueindex using barplot\n",
    "leagueindex_frame = df['LeagueIndex'].value_counts().to_frame()\n",
    "league_index = leagueindex_frame['LeagueIndex'].index\n",
    "count = leagueindex_frame['LeagueIndex'].to_list()\n",
    "\n",
    "fig = go.Figure([go.Bar(x=league_index, y=count, text=count,\n",
    "            textposition='auto',)])\n",
    "fig.show('notebook')\n",
    "display(df['LeagueIndex'].value_counts(normalize = True))"
   ]
  },
  {
   "cell_type": "markdown",
   "id": "709582e5",
   "metadata": {},
   "source": [
    "## Result (Data Exploratory)\n",
    "- When reading the data initally without na_values, there was no missing data in the dataframe but later i realized and passed the missing data to idenitfy the missing values in the dataframe.\n",
    "- The three columns ['Age', 'HoursPerWeek', 'TotalHours'] are some missing values.\n",
    "- Two categories from the league index namely 'Diamond' and 'Professional_leagues' have missing values, where Professional_leagues category do not have any values in the three missing columns mentioned above.\n",
    "- All the categories from the league index column are renamed to their respective string value from numerical form.\n",
    "- Grandmaster and Master have 1.0% and 1.6% of the categories from the league index column."
   ]
  },
  {
   "cell_type": "markdown",
   "id": "1cf880fe",
   "metadata": {},
   "source": [
    "## Preprocessing "
   ]
  },
  {
   "cell_type": "code",
   "execution_count": null,
   "id": "e8d39b06",
   "metadata": {},
   "outputs": [],
   "source": [
    "game_id = df['GameID'] #Storing for future reference\n",
    "df = df.drop(['GameID'], axis=1)"
   ]
  },
  {
   "cell_type": "code",
   "execution_count": null,
   "id": "eee0660f",
   "metadata": {},
   "outputs": [],
   "source": [
    "copy_df = df[df['LeagueIndex'] == 'Diamond'] #Filtering the missing values belonging to the diamond category\n",
    "#print(copy_df[copy_df['Age'].isnull()].index.tolist())\n",
    "categories = ['Age','HoursPerWeek', 'TotalHours']\n",
    "\n",
    "for column in categories:\n",
    "    missing_indexes = copy_df[copy_df[column].isnull()].index.tolist()\n",
    "    for index in missing_indexes:\n",
    "        df[column][index:index+1] =  df[column].mean() #Filling the missing values with mean\n",
    "#display(df[df['LeagueIndex'] == 'Diamond'][357:360])\n",
    "print(df.isnull().sum())"
   ]
  },
  {
   "cell_type": "code",
   "execution_count": null,
   "id": "68a45ca0",
   "metadata": {
    "scrolled": false
   },
   "outputs": [],
   "source": [
    "df = df.fillna(0) # Filling the Professional_leagues missing values as 0.\n",
    "print(df.isnull().sum())"
   ]
  },
  {
   "cell_type": "code",
   "execution_count": null,
   "id": "cb1e598e",
   "metadata": {},
   "outputs": [],
   "source": [
    "#Printing the descriptive statistics for all the categories in the leagueindex column.\n",
    "df = df.drop(['Age'], axis = 1)\n",
    "for category in df['LeagueIndex'].unique():\n",
    "    print(\"CATEGORY:\",category)\n",
    "    display(df.describe())"
   ]
  },
  {
   "cell_type": "markdown",
   "id": "bb663dac",
   "metadata": {},
   "source": [
    "## Result (Preprocessing)\n",
    "\n",
    "- **GameID** column is dropped from the dataframe.\n",
    "- **Age** column is dropped from the dataframe as it does not make sense in modeling.\n",
    "- Filtering the rows with respect to **diamond category** from the league index column and replacing the NAN values with the **mean** of the missing columns.\n",
    "- Filtering the rows with respect to **Professional leagues category** from the league index column with and replacing the missing values with **0**\n",
    "- After preprocessing for each category in leagueindex column **descriptive statistics** is displayed\n",
    "\n",
    "**Note:** _We are not removing the records from the professional league category from the league index column even after substantial amount of values are missing because in the professional league category other columns helps us to find whether players from previous leagueindex like master, grandmaster are eligible to move into professional league caetgory._"
   ]
  },
  {
   "cell_type": "markdown",
   "id": "57702634",
   "metadata": {},
   "source": [
    "# Checking for Multicollinearity"
   ]
  },
  {
   "cell_type": "code",
   "execution_count": null,
   "id": "a7d799cd",
   "metadata": {},
   "outputs": [],
   "source": [
    "# Creating a pearson correlation matrix to check for variables with higher correaltion\n",
    "plt.figure(figsize=(20,13))\n",
    "\n",
    "# Generate a mask to onlyshow the bottom triangle\n",
    "mask = np.triu(np.ones_like(df.corr(), dtype=bool))\n",
    "\n",
    "# generate heatmap\n",
    "sns.heatmap(df.corr(), annot=True, mask=mask, vmin=-1, vmax=1)\n",
    "plt.title('Correlation Coefficient Of Predictors')\n",
    "plt.show()"
   ]
  },
  {
   "cell_type": "code",
   "execution_count": null,
   "id": "271e83a8",
   "metadata": {},
   "outputs": [],
   "source": [
    "def compute_vif(considered_features):\n",
    "    \n",
    "    X = df[considered_features]\n",
    "    # the calculation of variance inflation requires a constant\n",
    "    X['intercept'] = 1\n",
    "    \n",
    "    # create dataframe to store vif values\n",
    "    vif = pd.DataFrame()\n",
    "    vif[\"Variable\"] = X.columns\n",
    "    vif[\"VIF\"] = [variance_inflation_factor(X.values, i) for i in range(X.shape[1])]\n",
    "    vif = vif[vif['Variable']!='intercept']\n",
    "    return vif"
   ]
  },
  {
   "cell_type": "code",
   "execution_count": null,
   "id": "b824ee10",
   "metadata": {},
   "outputs": [],
   "source": [
    "#For features more than threshold value of 0.60 correlation are considered in VIF\n",
    "considered_features = ['SelectByHotkeys', 'APM', 'ActionLatency', 'NumberOfPACs', 'GapBetweenPACs', 'ComplexUnitsMade', 'ComplexAbilitiesUsed']\n",
    "\n",
    "\n",
    "# compute VIF \n",
    "compute_vif(considered_features).sort_values('VIF', ascending=False)"
   ]
  },
  {
   "cell_type": "code",
   "execution_count": null,
   "id": "10b186b7",
   "metadata": {},
   "outputs": [],
   "source": [
    "#Recalculating the VIF again after removing 'APM' from the considered features\n",
    "considered_features.remove('APM')\n",
    "compute_vif(considered_features).sort_values('VIF', ascending=False)\n"
   ]
  },
  {
   "cell_type": "code",
   "execution_count": null,
   "id": "3fd57dcf",
   "metadata": {},
   "outputs": [],
   "source": [
    "df = df.drop('APM', axis = 1) #Dropping APM column to reduce multicollinearity"
   ]
  },
  {
   "cell_type": "markdown",
   "id": "7ac6977c",
   "metadata": {},
   "source": [
    "## Result (Checking for Multicollinearity)\n",
    "- At first we are analyzing any correlation exist between the variables using the pearson correaltion matrix using the simple corr() function available from pandas and visualize it using a heatmap.\n",
    "- From our analysis the following columns **['SelectByHotkeys', 'APM', 'ActionLatency', 'NumberOfPACs', 'GapBetweenPACs', 'ComplexUnitsMade', 'ComplexAbilitiesUsed']** have chosen for further analysis (These columns are selected based on threshold value of more than 0.60 correlation, There is no math involved in selecting **0.60** as **threshold**. It's just minimum threshold to take the columns for further analysis).\n",
    "- Variance Inflation Factor is calculated between the above mentioned columns to check for any multicollinearity. If the VIF is greater than 5, the variable is repsonsible for multicollinearity.\n",
    "- Two columns ('APM', 'ActionLatency') produced high multicollinearity greater than 5.\n",
    "- Based on _gaming experience_, **Action per minute** is very **important** to determine if players can be moved up from **grandmaster, master league** to Professional league but since **'APM'** and **'ActionLatency'** have high multicollinearity, **'APM'** having the highest of **8.824126 VIF** .'APM' column is removed again to check our VIF again. Now all the varaibles produce VIF below 5. 'APM' column is dropped from our dataframe. "
   ]
  },
  {
   "cell_type": "markdown",
   "id": "2e79e803",
   "metadata": {},
   "source": [
    "## Finding important features"
   ]
  },
  {
   "cell_type": "markdown",
   "id": "29058f46",
   "metadata": {},
   "source": [
    "### Model"
   ]
  },
  {
   "cell_type": "code",
   "execution_count": null,
   "id": "0bb3746d",
   "metadata": {},
   "outputs": [],
   "source": [
    "def Randomforest_classifier(df):\n",
    "    X = df.drop(\"LeagueIndex\", axis =1) # X_train\n",
    "    y = df[\"LeagueIndex\"] #y_train\n",
    "    \n",
    "    X_train, X_test, y_train, y_test = train_test_split(X, y, test_size=0.30, random_state=42)\n",
    "    \n",
    "    # define the model\n",
    "    model = RandomForestClassifier(n_estimators = 1200, random_state =42)\n",
    "    # fit the model\n",
    "    model.fit(X_train, y_train)\n",
    "    #performing predicitons on the test data set\n",
    "    y_pred = model.predict(X_test)\n",
    "\n",
    "    print(\"ACCURACY OF THE TEST MODEL: \", round(metrics.accuracy_score(y_test, y_pred),2))\n",
    "\n",
    "    confusion_matrix = metrics.confusion_matrix(y_test, y_pred)\n",
    "\n",
    "    print(metrics.classification_report(y_test, y_pred))\n",
    "    \n",
    "    _classes = np.unique(y).size\n",
    "\n",
    "    print(confusion_matrix)\n",
    "    return model, X_train, y_train, X_test, y_test"
   ]
  },
  {
   "cell_type": "markdown",
   "id": "2da6a649",
   "metadata": {},
   "source": [
    "### Important Features"
   ]
  },
  {
   "cell_type": "code",
   "execution_count": null,
   "id": "5c0ad414",
   "metadata": {},
   "outputs": [],
   "source": [
    "def feature_selection(rf, X_train, y_train, X_test, y_test):\n",
    "    #Applying permutation test to visualize the important features from train and test data\n",
    "    start_time = time.time()\n",
    "    \n",
    "    print(\"CALCULATING THE TRAIN FEATURE SCORES\")\n",
    "    \n",
    "    cv = StratifiedKFold(3, shuffle=True, random_state=0)\n",
    "    \n",
    "    perm_train = PermutationImportance(rf, refit = False, scoring=\"balanced_accuracy\", n_iter = 50).fit(X_train, y_train)\n",
    "    #show_weights(perm, feature_names = X_train.columns.tolist())\n",
    "    df_fi_train = pd.DataFrame(dict(feature_names=X_train.columns.tolist(),\n",
    "                          feat_imp=perm_train.feature_importances_, \n",
    "                          std=perm_train.feature_importances_std_,\n",
    "                          ))\n",
    "    \n",
    "    df_fi_train = df_fi_train.round(4)\n",
    "    df_fi_train = df_fi_train.sort_values('feat_imp', ascending=False)\n",
    "    \n",
    "    perm_test = PermutationImportance(rf, refit = False, scoring=\"balanced_accuracy\", n_iter = 50).fit(X_test, y_test)\n",
    "    #show_weights(perm, feature_names = X_train.columns.tolist())\n",
    "    df_fi_test = pd.DataFrame(dict(feature_names=X_train.columns.tolist(),\n",
    "                          feat_imp=perm_test.feature_importances_, \n",
    "                          std=perm_test.feature_importances_std_,\n",
    "                          ))\n",
    "    df_fi_test = df_fi_test.round(4)\n",
    "    df_fi_test = df_fi_test.sort_values('feat_imp', ascending=False)\n",
    "    end_time = time.time()\n",
    "    print(\"Execution time:\",start_time-end_time)\n",
    "    #display(df_fi)\n",
    "    \n",
    "    \n",
    "    fig1 = px.bar(df_fi_train, x='feature_names', y='feat_imp', title='Training_data')\n",
    "    fig1.show('notebook')\n",
    "    \n",
    "    fig2 = px.bar(df_fi_test, x='feature_names', y='feat_imp', title='Testing_data')\n",
    "    fig2.show('notebook')"
   ]
  },
  {
   "cell_type": "markdown",
   "id": "3134446a",
   "metadata": {},
   "source": [
    "### Baseline Model"
   ]
  },
  {
   "cell_type": "code",
   "execution_count": null,
   "id": "b4c70aaa",
   "metadata": {},
   "outputs": [],
   "source": [
    "Randomforest_classifier(df) #Creating a baseline model"
   ]
  },
  {
   "cell_type": "markdown",
   "id": "9178f571",
   "metadata": {},
   "source": [
    "#### Note:\n",
    "- No important feature will be found by using the baseline model because the feature importance is variable for all the league indexes\n",
    "- The random forest baseline model was not good enough in predicting the different levels of league index. Since the feature importance is variable (not static) for every league index pairs (For ex: Feature importance in Bronze-Silver, Silver-Gold compared to Master-GrandMaster, Master-Professional_leagues might be different). In this case we can split the data based upon ranked league index pairs. Because a player cannot jump from Bronze to Platinum. The player has to jump from Bronze to Silver, Silver to Gold and Gold to Platinum. This gives us ideally three pairs and players from each league index can be compared with next ranking to distinguish their abilties from the higher rank. Simultaneously we can also check by comparing bronze to gold, silver to platinum to show the differences better.Moreover extreme cases like bronze-professional_leagues can be comapred to show the extreme differences. There will be multiple classsifiers made in the next step becasue of the league index pairs.\n",
    "- Moreover the grandmaster category is really low compared to other categories and the future classifier using this category must be looked into"
   ]
  },
  {
   "cell_type": "markdown",
   "id": "9fcbeb3e",
   "metadata": {},
   "source": [
    "### LeagueIndex pairs"
   ]
  },
  {
   "cell_type": "code",
   "execution_count": null,
   "id": "8a41c64b",
   "metadata": {},
   "outputs": [],
   "source": [
    "df_pairs = [] #The list stores the combination of two categories from the dataframe\n",
    "#Mutiple column Pairs are created in the following order\n",
    "leagueindex_categories = ['Bronze', 'Silver', 'Gold', 'Platinum', 'Diamond', 'Master', 'GrandMaster', 'Professional_leagues']\n",
    "print(leagueindex_categories)\n",
    "for index, category in enumerate(leagueindex_categories):\n",
    "    df_pairs.append(df[(df['LeagueIndex'] == category) + (df['LeagueIndex'] == leagueindex_categories[index+1])])\n",
    "    if index == len(leagueindex_categories) - 2:\n",
    "        break\n",
    "df_pairs[3]"
   ]
  },
  {
   "cell_type": "markdown",
   "id": "c7317d9f",
   "metadata": {},
   "source": [
    "### Bronze - Silver Classification"
   ]
  },
  {
   "cell_type": "code",
   "execution_count": null,
   "id": "e600cbe9",
   "metadata": {},
   "outputs": [],
   "source": [
    "rf, X_train, y_train, X_test, y_test = Randomforest_classifier(df_pairs[0])\n",
    "feature_selection(rf, X_train, y_train, X_test, y_test)"
   ]
  },
  {
   "cell_type": "markdown",
   "id": "e188fffc",
   "metadata": {},
   "source": [
    "### Silver - Gold Classification"
   ]
  },
  {
   "cell_type": "code",
   "execution_count": null,
   "id": "0b112b27",
   "metadata": {},
   "outputs": [],
   "source": [
    "rf, X_train, y_train, X_test, y_test = Randomforest_classifier(df_pairs[1])\n",
    "feature_selection(rf, X_train, y_train, X_test, y_test)"
   ]
  },
  {
   "cell_type": "markdown",
   "id": "d789f15e",
   "metadata": {},
   "source": [
    "### Gold - Platinum Classification"
   ]
  },
  {
   "cell_type": "code",
   "execution_count": null,
   "id": "d8b5f870",
   "metadata": {},
   "outputs": [],
   "source": [
    "rf, X_train, y_train, X_test, y_test = Randomforest_classifier(df_pairs[2])\n",
    "feature_selection(rf, X_train, y_train, X_test, y_test)"
   ]
  },
  {
   "cell_type": "markdown",
   "id": "b4b7b49b",
   "metadata": {},
   "source": [
    "### Platinum - Diamond Classification"
   ]
  },
  {
   "cell_type": "code",
   "execution_count": null,
   "id": "82fa073c",
   "metadata": {
    "scrolled": true
   },
   "outputs": [],
   "source": [
    "rf, X_train, y_train, X_test, y_test = Randomforest_classifier(df_pairs[3])\n",
    "feature_selection(rf, X_train, y_train, X_test, y_test)"
   ]
  },
  {
   "cell_type": "markdown",
   "id": "4dd2b07c",
   "metadata": {},
   "source": [
    "### Diamond - Master Classification"
   ]
  },
  {
   "cell_type": "code",
   "execution_count": null,
   "id": "5859a1dd",
   "metadata": {},
   "outputs": [],
   "source": [
    "rf, X_train, y_train, X_test, y_test = Randomforest_classifier(df_pairs[4])\n",
    "feature_selection(rf, X_train, y_train, X_test, y_test)"
   ]
  },
  {
   "cell_type": "markdown",
   "id": "927ae53c",
   "metadata": {},
   "source": [
    "### Master - GrandMaster Classification"
   ]
  },
  {
   "cell_type": "code",
   "execution_count": null,
   "id": "3218c58e",
   "metadata": {},
   "outputs": [],
   "source": [
    "rf, X_train, y_train, X_test, y_test = Randomforest_classifier(df_pairs[5])\n",
    "feature_selection(rf, X_train, y_train, X_test, y_test)"
   ]
  },
  {
   "cell_type": "markdown",
   "id": "269d179d",
   "metadata": {},
   "source": [
    "### GrandMaster - ProfessionalLeague Classification"
   ]
  },
  {
   "cell_type": "code",
   "execution_count": null,
   "id": "87ffd578",
   "metadata": {},
   "outputs": [],
   "source": [
    "temp = df_pairs[6].drop\n",
    "rf, X_train, y_train, X_test, y_test = Randomforest_classifier(df_pairs[6])\n",
    "feature_selection(rf, X_train, y_train, X_test, y_test)"
   ]
  },
  {
   "cell_type": "markdown",
   "id": "ec4da365",
   "metadata": {},
   "source": [
    "### Bronze - Gold Classification"
   ]
  },
  {
   "cell_type": "code",
   "execution_count": null,
   "id": "1421e0f9",
   "metadata": {},
   "outputs": [],
   "source": [
    "temp = df[(df['LeagueIndex'] == \"Bronze\") + (df['LeagueIndex'] == \"Gold\")]\n",
    "\n",
    "rf, X_train, y_train, X_test, y_test = Randomforest_classifier(temp)\n",
    "feature_selection(rf, X_train, y_train, X_test, y_test)"
   ]
  },
  {
   "cell_type": "markdown",
   "id": "ab912f46",
   "metadata": {},
   "source": [
    "### Silver - Platinum ClassificationPlatinum"
   ]
  },
  {
   "cell_type": "code",
   "execution_count": null,
   "id": "ffc04f6a",
   "metadata": {},
   "outputs": [],
   "source": [
    "temp = df[(df['LeagueIndex'] == \"Silver\") + (df['LeagueIndex'] == \"Platinum\")]\n",
    "\n",
    "rf, X_train, y_train, X_test, y_test = Randomforest_classifier(temp)\n",
    "feature_selection(rf, X_train, y_train, X_test, y_test)"
   ]
  },
  {
   "cell_type": "markdown",
   "id": "65aadd7b",
   "metadata": {},
   "source": [
    "### Gold - Diamond Classification"
   ]
  },
  {
   "cell_type": "code",
   "execution_count": null,
   "id": "1cc007c6",
   "metadata": {},
   "outputs": [],
   "source": [
    "temp = df[(df['LeagueIndex'] == \"Gold\") + (df['LeagueIndex'] == \"Diamond\")]\n",
    "\n",
    "rf, X_train, y_train, X_test, y_test = Randomforest_classifier(temp)\n",
    "feature_selection(rf, X_train, y_train, X_test, y_test)"
   ]
  },
  {
   "cell_type": "markdown",
   "id": "f421efc4",
   "metadata": {},
   "source": [
    "### Platinum - Master ClassificationPlatinum"
   ]
  },
  {
   "cell_type": "code",
   "execution_count": null,
   "id": "5932f67c",
   "metadata": {},
   "outputs": [],
   "source": [
    "temp = df[(df['LeagueIndex'] == \"Platinum\") + (df['LeagueIndex'] == \"Master\")]\n",
    "\n",
    "rf, X_train, y_train, X_test, y_test = Randomforest_classifier(temp)\n",
    "feature_selection(rf, X_train, y_train, X_test, y_test)"
   ]
  },
  {
   "cell_type": "markdown",
   "id": "c58d9bd2",
   "metadata": {},
   "source": [
    "### Diamond - Professional_Leagues Classification"
   ]
  },
  {
   "cell_type": "code",
   "execution_count": null,
   "id": "b461f4a8",
   "metadata": {},
   "outputs": [],
   "source": [
    "temp = df[(df['LeagueIndex'] == \"Diamond\") + (df['LeagueIndex'] == \"Professional_leagues\")]\n",
    "temp = temp.drop(['TotalHours', 'HoursPerWeek'], axis =1)\n",
    "rf, X_train, y_train, X_test, y_test = Randomforest_classifier(temp)\n",
    "feature_selection(rf, X_train, y_train, X_test, y_test)"
   ]
  },
  {
   "cell_type": "markdown",
   "id": "2f172e6e",
   "metadata": {},
   "source": [
    "### Master - Professional_Leagues Classification"
   ]
  },
  {
   "cell_type": "code",
   "execution_count": null,
   "id": "846a63c8",
   "metadata": {},
   "outputs": [],
   "source": [
    "temp = df[(df['LeagueIndex'] == \"Master\") + (df['LeagueIndex'] == \"Professional_leagues\")]\n",
    "temp = temp.drop(['TotalHours', 'HoursPerWeek'], axis =1)\n",
    "rf, X_train, y_train, X_test, y_test = Randomforest_classifier(temp)\n",
    "feature_selection(rf, X_train, y_train, X_test, y_test)"
   ]
  },
  {
   "cell_type": "markdown",
   "id": "00a7ecdb",
   "metadata": {},
   "source": [
    "### Bronze - Professional_Leagues Classification"
   ]
  },
  {
   "cell_type": "code",
   "execution_count": null,
   "id": "17b86536",
   "metadata": {},
   "outputs": [],
   "source": [
    "temp = df[(df['LeagueIndex'] == \"Bronze\") + (df['LeagueIndex'] == \"Professional_leagues\")]\n",
    "temp = temp.drop(['TotalHours', 'HoursPerWeek'], axis =1)\n",
    "rf, X_train, y_train, X_test, y_test = Randomforest_classifier(temp)\n",
    "feature_selection(rf, X_train, y_train, X_test, y_test)"
   ]
  },
  {
   "cell_type": "markdown",
   "id": "1ed0c90e",
   "metadata": {},
   "source": [
    "### Result (Feature Importance)"
   ]
  },
  {
   "cell_type": "markdown",
   "id": "ed33019b",
   "metadata": {},
   "source": [
    "- By analyzing visualizations, for each league index category the following features are considered important,\n",
    "\n",
    "- **Bronze Level -** By analyzing the Bronze-Silver and Bronze-Gold graph, the top important features are TotalHours, WorkersMade, ActionLatency, NumberofPACs, GapBetweenPACs, SelectByHotKeys and AssignToHotKeys.\n",
    "- **Silver Level -** By analyzing the Silver-Gold and Silver-Platinum graph, the top important features are TotalHours, ActionLatency, NumberofPACs, GapBetweenPACs, SelectByHotKeys, MinimapAttacks, AssignToHotKeys and ComplexAbilitiesUsed.\n",
    "- **Gold Level -** By analyzing the Gold-Platinum and Gold-Diamond graph, the top important features are ActionLatency,TotalHours, NumberofPACs, GapBetweenPACs, SelectByHotKeys, MinimapAttacks, AssignToHotKeys, WorkersMade and ComplexAbilitiesUsed.\n",
    "- **Platinum Level -** By analyzing the Platinum-Diamond and Platinum-Master graph, the top important features are ActionLatency,TotalHours, GapBetweenPACs, NumberofPACs, SelectByHotKeys, AssignToHotKeys, MinimapAttacks and UniqueHotKeys.\n",
    "- **Diamond Level -** By analyzing the Diamond-Master and Diamond-Professional leagues graph, the top important features are HoursPerWeek, TotalHours, ActionLatency, SelectByHotKeys, AssignToHotKeys, GapBetweenPACs, NumberofPACs and MinimapAttacks and UniqueHotKeys.\n",
    "- **Master Level -** By analyzing the Master-GrandMaster graph. the top important featues are ComplexAbilitiesUsed, HoursPerWeek, TotalHours, AssignToHotKeys, SelectToHotKeys, NumberofPACs, TotalMapExplored, ActionLatency.\n",
    "- **GrandMaster Level -** By analyzing the Master-GrandMaster graph. the top important featues are ComplexAbilitiesUsed, HoursPerWeek, TotalHours, AssignToHotKeys, SelectToHotKeys, NumberofPACs, TotalMapExplored, ActionLatency.\n",
    "- **Professional level -** By analyzing the Diamond-Professional league and Master-Professional graphs, the top most important features are SelectByHotKeys, AssignToHotKeys, UniqueHotkeys, ActionLatency, GapBetweenPACs, ComplexUnitsMade, ComplexAbilitiesused, NumberofPACs, MiniMapAttacks\n",
    "\n",
    "**Explanation (For General Audience):**\n",
    "- *For bronze and silver level players they need to play lot of hours to gain expereince and also the workers made in the beginning level is very high compared to the players in the higher leagues like Master and professional. The Higher league players are not using workers by ckicking but instead they use selectbyhotkeys and assignhotkeys a combination of keyboard keys to do the task.Moreover, Action latency is one of the constant important feature throughout all the levels of the player categories. The action latency is the first reponse of the players in the current point of view (POV). The players constantly change the view to check for enemies and completion of buildings. When they move the first response time is called action latency. This feature is really important throughout all the league levels. TotalHours is also important for all league level players. This means players who have more experience will be in higher leagues. All the Master, GrandMaster and professional league players make Complexunits and use ComplexAbilities in their gameplay. Similarly all the higher league players use UnqiueHotKeys during their gameplay. This means players have multiple unique shortcuts to do their task. Perception action cycle is the number of actions done in a span of time. This was moderate throughout all the skill levels.*"
   ]
  },
  {
   "cell_type": "markdown",
   "id": "968eb6c3",
   "metadata": {},
   "source": [
    "## Make players professional (Not able to do it statistically)"
   ]
  },
  {
   "cell_type": "code",
   "execution_count": null,
   "id": "d8552a28",
   "metadata": {},
   "outputs": [],
   "source": [
    "important_features = ['game_id','SelectByHotkeys', 'AssignToHotkeys', 'UniqueHotkeys', 'ActionLatency', 'GapBetweenPACs', 'ComplexUnitsMade', 'ComplexAbilitiesUsed', 'NumberOfPACs', 'MinimapAttacks']"
   ]
  },
  {
   "cell_type": "code",
   "execution_count": null,
   "id": "972bf5ee",
   "metadata": {},
   "outputs": [],
   "source": [
    "df['game_id'] = game_id"
   ]
  },
  {
   "cell_type": "code",
   "execution_count": null,
   "id": "6ebc09e4",
   "metadata": {},
   "outputs": [],
   "source": [
    "professional_df = df[df['LeagueIndex'] == 'Professional_leagues']\n",
    "grandmaster_df = df[df['LeagueIndex'] == 'GrandMaster']"
   ]
  },
  {
   "cell_type": "code",
   "execution_count": null,
   "id": "40ded864",
   "metadata": {},
   "outputs": [],
   "source": [
    "professional_df = professional_df[important_features].reset_index(drop=True)\n",
    "grandmaster_df = grandmaster_df[important_features].reset_index(drop=True)"
   ]
  },
  {
   "cell_type": "code",
   "execution_count": null,
   "id": "9c2c18fa",
   "metadata": {},
   "outputs": [],
   "source": [
    "print(professional_df['SelectByHotkeys'].mean() - grandmaster_df['SelectByHotkeys'][0])"
   ]
  },
  {
   "cell_type": "code",
   "execution_count": null,
   "id": "00f4a944",
   "metadata": {},
   "outputs": [],
   "source": [
    "import scipy.stats as stats\n",
    "pop_sample = len(professional_df)\n",
    "pop_mean = round(professional_df['SelectByHotkeys'].mean(),5)\n",
    "pop_stdev = round(professional_df['SelectByHotkeys'].std(),5)\n",
    "pop_sem = pop_stdev / np.sqrt(pop_sample)\n",
    "n_sample = len(grandmaster_df)\n",
    "x_bar = round(grandmaster_df['SelectByHotkeys'].mean(),5)\n",
    "stdev = grandmaster_df['SelectByHotkeys'].std()\n",
    "sample_sem = stdev / np.sqrt(n_sample)"
   ]
  },
  {
   "cell_type": "code",
   "execution_count": null,
   "id": "8c836f27",
   "metadata": {},
   "outputs": [],
   "source": [
    "print(pop_stdev, stdev)"
   ]
  },
  {
   "cell_type": "code",
   "execution_count": null,
   "id": "b8f9ff1d",
   "metadata": {},
   "outputs": [],
   "source": [
    "statistic, pvalue = stats.ttest_1samp(professional_df, grandmaster_df['SelectByHotkeys'][0])"
   ]
  },
  {
   "cell_type": "markdown",
   "id": "f72fa96b",
   "metadata": {},
   "source": [
    "**Note**: I was trying to find the p-value for the two columns (eg: professional_league['SelectByHotkeys'] and grandmaster_df['SelectByHotkeys']) but this test was calculating the statistical significance between in terms of column wise. I was able to reject the null hypothesis or accept the null hypothesis for the important features in grandmaster column. The problem is, I was not able to statistically recommend a player belongs to the professional league population. It's 1:n test. I really tried hard to find all possible ways to recommend players statisitcally significant but i do now know how to put it together. It will be great if you can able to share me the answer for this aprt of the question. I did my best to solve it.I'm sorry. "
   ]
  },
  {
   "cell_type": "markdown",
   "id": "7d0bcc53",
   "metadata": {},
   "source": [
    "## Creating fully-fledged model, what model and why?"
   ]
  },
  {
   "cell_type": "markdown",
   "id": "b634539e",
   "metadata": {},
   "source": [
    "The random forest model implemeted above have biases and other classification models exhibit few assumptions that will create a problem to validate our model(black box). In this case any classification model which can be interpretable to evaluate the output in form of statistical significance test should be implemented. There are few tree models which come with statistical significane test which are agnostic of any assumptions and rather test the models randomness (eg:  Conditional Inference Forest Model)."
   ]
  }
 ],
 "metadata": {
  "kernelspec": {
   "display_name": "Python 3 (ipykernel)",
   "language": "python",
   "name": "python3"
  },
  "language_info": {
   "codemirror_mode": {
    "name": "ipython",
    "version": 3
   },
   "file_extension": ".py",
   "mimetype": "text/x-python",
   "name": "python",
   "nbconvert_exporter": "python",
   "pygments_lexer": "ipython3",
   "version": "3.9.12"
  }
 },
 "nbformat": 4,
 "nbformat_minor": 5
}
